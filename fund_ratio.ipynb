{
 "cells": [
  {
   "cell_type": "code",
   "execution_count": 23,
   "metadata": {},
   "outputs": [],
   "source": [
    "import yfinance as yf\n",
    "import pandas as pd"
   ]
  },
  {
   "cell_type": "code",
   "execution_count": 24,
   "metadata": {},
   "outputs": [],
   "source": [
    "sc = yf.Ticker(\"SC.bk\")"
   ]
  },
  {
   "cell_type": "code",
   "execution_count": 25,
   "metadata": {},
   "outputs": [
    {
     "name": "stdout",
     "output_type": "stream",
     "text": [
      "BH.BK 0.6796864391666667\n",
      "24.668705\n"
     ]
    }
   ],
   "source": [
    "\n",
    "list_of_stock = [\n",
    "    'ADVANC.BK', 'AOT.BK', 'AWC.BK', 'BANPU.BK', 'BBL.BK', 'BDMS.BK',\n",
    "    'BEM.BK', 'BGRIM.BK', 'BH.BK', 'BJC.BK', 'BTS.BK', 'CBG.BK', \n",
    "    'CENTEL.BK', 'COM7.BK', 'CPALL.BK', 'CPF.BK', 'CPN.BK', 'CRC.BK',\n",
    "    'DTAC.BK', 'EA.BK', 'EGCO.BK', 'GLOBAL.BK', 'GPSC.BK', 'GULF.BK',\n",
    "    'HMPRO.BK', 'INTUCH.BK', 'IRPC.BK', 'IVL.BK', 'KBANK.BK', 'KTB.BK',\n",
    "    'KTC.BK', 'LH.BK', 'MINT.BK', 'MTC.BK', 'OR.BK', 'OSP.BK', 'PTT.BK',\n",
    "    'PTTEP.BK', 'PTTGC.BK', 'RATCH.BK', 'SAWAD.BK', 'SCB.BK', 'SCC.BK',\n",
    "    'SCGP.BK', 'TISCO.BK', 'TMB.BK', 'TOA.BK', 'TOP.BK', 'TRUE.BK', 'TTB.BK'\n",
    "]\n",
    "\n",
    "# Weights for each financial ratio (adjust as needed)\n",
    "weights = {\n",
    "    'forwardPE': 0.25,\n",
    "    'priceToBook': 0.25,\n",
    "    'debtToEquity': 0.2,\n",
    "    'returnOnEquity': 0.2,\n",
    "    'currentRatio': 0.1\n",
    "}\n",
    "\n",
    "def normalize(value, min_value, max_value):\n",
    "    \"\"\"Normalize the value to a range of 0 to 1.\"\"\"\n",
    "    return (value - min_value) / (max_value - min_value) if max_value != min_value else 1\n",
    "\n",
    "best_score = float('-inf')\n",
    "best_stock = None\n",
    "\n",
    "for stock_symbol in list_of_stock:\n",
    "    stock = yf.Ticker(stock_symbol)\n",
    "    try:\n",
    "        info = stock.info\n",
    "        # Check if all required ratios are present\n",
    "        if all(key in info for key in weights.keys()):\n",
    "            pe_ratio = info['forwardPE']\n",
    "            pb_ratio = info['priceToBook']\n",
    "            de_ratio = info['debtToEquity']\n",
    "            roe = info['returnOnEquity']\n",
    "            current_ratio = info['currentRatio']\n",
    "            \n",
    "            # Normalize ratios for comparison (assuming lower is better for DE and PE, higher is better for ROE and current ratio)\n",
    "            normalized_pe = normalize(pe_ratio, 0, 30)  # Adjust max value as appropriate\n",
    "            normalized_pb = normalize(pb_ratio, 0, 10)  # Adjust max value as appropriate\n",
    "            normalized_de = 1 - normalize(de_ratio, 0, 2)  # Adjust max value as appropriate\n",
    "            normalized_roe = normalize(roe, 0, 50)  # Adjust max value as appropriate\n",
    "            normalized_current_ratio = normalize(current_ratio, 0, 3)  # Adjust max value as appropriate\n",
    "            \n",
    "            # Calculate composite score\n",
    "            score = (normalized_pe * weights['forwardPE'] +\n",
    "                     normalized_pb * weights['priceToBook'] +\n",
    "                     normalized_de * weights['debtToEquity'] +\n",
    "                     normalized_roe * weights['returnOnEquity'] +\n",
    "                     normalized_current_ratio * weights['currentRatio'])\n",
    "            \n",
    "            if score > best_score:\n",
    "                best_score = score\n",
    "                best_stock = stock\n",
    "    except KeyError:\n",
    "        # Skip if any required financial ratio is not available\n",
    "        continue\n",
    "\n",
    "if best_stock:\n",
    "    print(best_stock.info['symbol'], best_score)\n",
    "    print(best_stock.info['forwardPE'])\n",
    "else:\n",
    "    print(\"No stock found with valid financial ratios.\")\n"
   ]
  },
  {
   "cell_type": "code",
   "execution_count": null,
   "metadata": {},
   "outputs": [],
   "source": []
  },
  {
   "cell_type": "code",
   "execution_count": null,
   "metadata": {},
   "outputs": [],
   "source": []
  },
  {
   "cell_type": "code",
   "execution_count": null,
   "metadata": {},
   "outputs": [],
   "source": []
  }
 ],
 "metadata": {
  "kernelspec": {
   "display_name": "Python 3",
   "language": "python",
   "name": "python3"
  },
  "language_info": {
   "codemirror_mode": {
    "name": "ipython",
    "version": 3
   },
   "file_extension": ".py",
   "mimetype": "text/x-python",
   "name": "python",
   "nbconvert_exporter": "python",
   "pygments_lexer": "ipython3",
   "version": "3.7.8"
  }
 },
 "nbformat": 4,
 "nbformat_minor": 2
}
